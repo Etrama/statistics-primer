{
 "cells": [
  {
   "cell_type": "code",
   "execution_count": 2,
   "metadata": {},
   "outputs": [],
   "source": [
    "from pylatexenc.latex2text import LatexNodes2Text"
   ]
  },
  {
   "cell_type": "code",
   "execution_count": 8,
   "metadata": {},
   "outputs": [],
   "source": [
    "latex = r\"\"\"\\textbf{Hi there!} Here is \\emph{an equation}:\n",
    "\\begin{equation}\n",
    "    \\zeta = x + i y\n",
    "\\end{equation}\n",
    "where $i$ is the imaginary unit.\n",
    "\"\"\""
   ]
  },
  {
   "cell_type": "code",
   "execution_count": 9,
   "metadata": {},
   "outputs": [
    {
     "name": "stdout",
     "output_type": "stream",
     "text": [
      "Hi there! Here is an equation:\n",
      "\n",
      "    ζ = x + i y\n",
      "\n",
      "where i is the imaginary unit.\n",
      "\n"
     ]
    }
   ],
   "source": [
    "print(LatexNodes2Text().latex_to_text(latex))"
   ]
  },
  {
   "cell_type": "code",
   "execution_count": 12,
   "metadata": {},
   "outputs": [
    {
     "name": "stdout",
     "output_type": "stream",
     "text": [
      "𝐤\n"
     ]
    }
   ],
   "source": [
    "import unicodeit\n",
    "print(unicodeit.replace('\\mathbf{k}'))"
   ]
  },
  {
   "cell_type": "code",
   "execution_count": null,
   "metadata": {},
   "outputs": [],
   "source": []
  }
 ],
 "metadata": {
  "kernelspec": {
   "display_name": "stats",
   "language": "python",
   "name": "python3"
  },
  "language_info": {
   "codemirror_mode": {
    "name": "ipython",
    "version": 3
   },
   "file_extension": ".py",
   "mimetype": "text/x-python",
   "name": "python",
   "nbconvert_exporter": "python",
   "pygments_lexer": "ipython3",
   "version": "3.11.5"
  },
  "orig_nbformat": 4
 },
 "nbformat": 4,
 "nbformat_minor": 2
}

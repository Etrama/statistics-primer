{
 "cells": [
  {
   "cell_type": "markdown",
   "metadata": {},
   "source": [
    "I'd kinda like to incept the idea of random variables into my brain and yours as you read this article. Think of this as a random variables for lazy people guide. Just read along and hopefully at some point some understanding will wash over you and me both :smile:"
   ]
  },
  {
   "cell_type": "code",
   "execution_count": 2,
   "metadata": {},
   "outputs": [],
   "source": [
    "# Imports\n",
    "import numpy as np\n",
    "import matplotlib.pyplot as plt\n",
    "import seaborn as sns\n",
    "sns.set_style(\"darkgrid\")"
   ]
  },
  {
   "cell_type": "markdown",
   "metadata": {},
   "source": [
    "## Random Variable - Motivations:"
   ]
  },
  {
   "cell_type": "markdown",
   "metadata": {},
   "source": [
    "A normal function is given by something like the following equation:\n",
    "$$y = f(x)$$\n",
    "Consider, for instance, this function the common variant of the more general line equation $y = mx + c$:\n",
    "$$y = 4x + 3$$\n",
    "We can quite easily plot any equation like the above."
   ]
  },
  {
   "cell_type": "code",
   "execution_count": 8,
   "metadata": {},
   "outputs": [
    {
     "data": {
      "text/plain": [
       "Text(0.5, 1.0, 'y = 4x + 3')"
      ]
     },
     "execution_count": 8,
     "metadata": {},
     "output_type": "execute_result"
    },
    {
     "data": {
      "image/png": "[encoded data removed]",
      "text/plain": [
       "<Figure size 800x500 with 1 Axes>"
      ]
     },
     "metadata": {},
     "output_type": "display_data"
    }
   ],
   "source": [
    "x = np.linspace(-20,20,1000) # 1000 linearly spaced numbers\n",
    "y = 4*x + 3\n",
    "fig = plt.figure(figsize=(8,5))\n",
    "plt.plot(x, y)\n",
    "plt.xlabel(\"x\")\n",
    "plt.ylabel(\"y\")\n",
    "plt.title(\"y = 4x + 3\")\n"
   ]
  },
  {
   "cell_type": "markdown",
   "metadata": {},
   "source": [
    "Functions of this form have a defined domain and a defined range, most or all of the time. For the uninitiated, the domain is the range of inputs (range of \"x\") that are permitted for a given function. The range is the range of the outputs (range of \"y\") for that function. For instance, for the function above the domain is $x \\in (-\\infty:\\infty)$ and the range is $y \\in (-\\infty:\\infty)$."
   ]
  },
  {
   "cell_type": "markdown",
   "metadata": {},
   "source": [
    "So far, so good. Random variables are weird in this sense. They are essentially functions. But they do not deal with inputs and outputs in the sense that they are defined above. Random variables are functions over sets. Here, we use the mathematical notion of sets, i.e. a collection of things. For instance, I have a bag (set B) filled with multi-colored balls:\n",
    "$$B = \\{red, white, blue, green\\}$$"
   ]
  },
  {
   "cell_type": "markdown",
   "metadata": {},
   "source": [
    ">A random variable maps every element in a set / a sample space to a real number."
   ]
  },
  {
   "cell_type": "markdown",
   "metadata": {},
   "source": [
    "That's it. A random variable is simply a function that maps every element in a set ($\\mathbb{S}$) to a real number ($\\mathbb{R}$). This gives us a lot of leeway to play with these variables."
   ]
  },
  {
   "cell_type": "markdown",
   "metadata": {},
   "source": [
    "$$X: \\mathbb{S} \\rightarrow \\mathbb{R}$$"
   ]
  },
  {
   "cell_type": "markdown",
   "metadata": {},
   "source": [
    "### A gentle introductory example:"
   ]
  },
  {
   "cell_type": "markdown",
   "metadata": {},
   "source": [
    "Say we win 1$ everytime we land heads after a coin-flip.  Then we would define our random variable $X$ as:\n",
    "$$\\begin{equation}\n",
    "  X =\n",
    "  \\begin{cases}\n",
    "    1 & \\text{when heads} \\\\\n",
    "    0 & \\text{when tails}\n",
    "  \\end{cases}\n",
    "\\end{equation}$$"
   ]
  },
  {
   "cell_type": "markdown",
   "metadata": {},
   "source": [
    "Note that the domain of our random variable is the sample space, $\\{H, T\\}$ and the range is $\\{0, 1\\}$."
   ]
  },
  {
   "cell_type": "markdown",
   "metadata": {},
   "source": [
    "Our random variable $X$ can either be heads or it could be tails. Perhaps it could be heads with a 60% of the time. Maybe we change the coin and now it's heads only 30% of the time. Both of these cases can be represented with the random variable above, as long as we win $1 everytime we land heads. This example should give you an inkling that random variables are inherently linked to probabilities."
   ]
  },
  {
   "cell_type": "markdown",
   "metadata": {},
   "source": [
    "### Why only on sets?"
   ]
  },
  {
   "cell_type": "markdown",
   "metadata": {},
   "source": [
    "Let's say we had to define a random variable on $y = 4x + 3$. Recall that a random variable is a function that maps every element in a set to a real number. However, there is nothing random about the linear equation. A linear equation is deterministic relation between $y$ and $x$. Hence, we see why random variables are used to model outcomes that are based on chance / outcomes that are probabilistic. We cannot predict the value of a random variable with certainty."
   ]
  },
  {
   "cell_type": "markdown",
   "metadata": {},
   "source": [
    "> Random variables model probabilistic outcomes."
   ]
  },
  {
   "cell_type": "markdown",
   "metadata": {},
   "source": [
    "According to a useful definition by none other than our old friend Wikipedia, random variables map a sample space $\\{H, T\\}$ to a measurable space $\\{1, 0\\}$."
   ]
  },
  {
   "cell_type": "markdown",
   "metadata": {},
   "source": [
    "Another useful interpretation, credits to Khan Academy, to distinguish between typical functions and random variables is that, we can essentially assign a value to the input in a typical function such as $y=4x+3$. I can assign values to $x$ willy-nilly. However, I can't assign values to a random variable, since it depends on chance."
   ]
  },
  {
   "cell_type": "markdown",
   "metadata": {},
   "source": [
    "### A few more introductory examples :"
   ]
  },
  {
   "cell_type": "markdown",
   "metadata": {},
   "source": [
    "Why play with one coin that can win us a dollar if we land heads, when we can play with two coins and make 5$ if we get two heads.\n",
    "$$\\begin{equation}\n",
    "  X =\n",
    "  \\begin{cases}\n",
    "    5 & \\text{when heads, heads} \\\\\n",
    "    0 & \\text{when heads, tails} \\\\\n",
    "    0 & \\text{when tails, heads} \\\\\n",
    "    -2 & \\text{when tails, tails}\n",
    "  \\end{cases}\n",
    "\\end{equation}$$"
   ]
  },
  {
   "cell_type": "markdown",
   "metadata": {},
   "source": [
    "Instead of arbitrarily assigning values, often times random variables are defined based on a count. Here's one defined by the count of tails:\n",
    "$$\\begin{equation}\n",
    "  X =\n",
    "  \\begin{cases}\n",
    "    0 & \\text{when heads, heads} \\\\\n",
    "    1 & \\text{when heads, tails} \\\\\n",
    "    1 & \\text{when tails, heads} \\\\\n",
    "    2 & \\text{when tails, tails}\n",
    "  \\end{cases}\n",
    "\\end{equation}$$"
   ]
  },
  {
   "cell_type": "markdown",
   "metadata": {},
   "source": [
    "### Some random variables in Python"
   ]
  },
  {
   "cell_type": "code",
   "execution_count": null,
   "metadata": {},
   "outputs": [],
   "source": []
  },
  {
   "cell_type": "markdown",
   "metadata": {},
   "source": [
    "### Discrete Random Variables:"
   ]
  },
  {
   "cell_type": "markdown",
   "metadata": {},
   "source": [
    "counting random variables"
   ]
  },
  {
   "cell_type": "markdown",
   "metadata": {},
   "source": [
    "### Continuous Random Variables:"
   ]
  },
  {
   "cell_type": "markdown",
   "metadata": {},
   "source": [
    "measurement random variables"
   ]
  },
  {
   "cell_type": "markdown",
   "metadata": {},
   "source": [
    "### Something missing?"
   ]
  },
  {
   "cell_type": "markdown",
   "metadata": {},
   "source": [
    "What about the probability of obtaining heads or tails?"
   ]
  },
  {
   "cell_type": "markdown",
   "metadata": {},
   "source": [
    "### To sum up:"
   ]
  },
  {
   "cell_type": "markdown",
   "metadata": {},
   "source": [
    "A random variable maps a sample space to a measureable space.  \n",
    "A random variable maps every element in a set to a real number."
   ]
  },
  {
   "cell_type": "markdown",
   "metadata": {},
   "source": [
    "The \"randomness\" of a random variable refers to probabilistic nature of the events that it is modelling."
   ]
  },
  {
   "cell_type": "markdown",
   "metadata": {},
   "source": [
    "References:  \n",
    " - [Princeton Stats Guide](https://www.cs.princeton.edu/courses/archive/fall02/cs341/lec22.pdf)\n",
    " - [Khan Academy - Random Variable](https://www.cs.princeton.edu/courses/archive/fall02/cs341/lec22.pdf)\n",
    " - [Wikipedia - Random Variables](https://en.wikipedia.org/wiki/Random_variable#:~:text=function%20given%20by%3A-,Dice%20roll,height%20of%20picture%20columns%20here.)"
   ]
  }
 ],
 "metadata": {
  "kernelspec": {
   "display_name": "stats",
   "language": "python",
   "name": "python3"
  },
  "language_info": {
   "codemirror_mode": {
    "name": "ipython",
    "version": 3
   },
   "file_extension": ".py",
   "mimetype": "text/x-python",
   "name": "python",
   "nbconvert_exporter": "python",
   "pygments_lexer": "ipython3",
   "version": "3.11.5"
  },
  "orig_nbformat": 4
 },
 "nbformat": 4,
 "nbformat_minor": 2
}

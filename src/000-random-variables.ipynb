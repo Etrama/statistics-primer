{
 "cells": [
  {
   "cell_type": "markdown",
   "metadata": {},
   "source": [
    "I'd kinda like to incept the idea of random variables into my brain and yours as you read this article. Think of this as a random variables for lazy people guide. Just read along and hopefully at some point some understanding will wash over you and me both :smile:"
   ]
  },
  {
   "cell_type": "markdown",
   "metadata": {},
   "source": [
    "Mostly I'd like to combat the fear that many people feel when they look at these variables"
   ]
  },
  {
   "cell_type": "code",
   "execution_count": 9,
   "metadata": {},
   "outputs": [],
   "source": [
    "# Imports\n",
    "import numpy as np\n",
    "from scipy.stats import rv_discrete, rv_continuous\n",
    "import matplotlib.pyplot as plt\n",
    "import seaborn as sns\n",
    "sns.set_style(\"darkgrid\")"
   ]
  },
  {
   "cell_type": "markdown",
   "metadata": {},
   "source": [
    "## Random Variable - Motivations:"
   ]
  },
  {
   "cell_type": "markdown",
   "metadata": {},
   "source": [
    "A normal function is given by something like the following equation:\n",
    "$$y = f(x)$$\n",
    "Consider, for instance, this function the common variant of the more general line equation $y = mx + c$:\n",
    "$$y = 4x + 3$$\n",
    "We can quite easily plot any equation like the above."
   ]
  },
  {
   "cell_type": "code",
   "execution_count": 8,
   "metadata": {},
   "outputs": [
    {
     "data": {
      "text/plain": [
       "Text(0.5, 1.0, 'y = 4x + 3')"
      ]
     },
     "execution_count": 8,
     "metadata": {},
     "output_type": "execute_result"
    },
    {
     "data": {
      "image/png": "[encoded data removed]",
      "text/plain": [
       "<Figure size 800x500 with 1 Axes>"
      ]
     },
     "metadata": {},
     "output_type": "display_data"
    }
   ],
   "source": [
    "x = np.linspace(-20,20,1000) # 1000 linearly spaced numbers\n",
    "y = 4*x + 3\n",
    "fig = plt.figure(figsize=(8,5))\n",
    "plt.plot(x, y)\n",
    "plt.xlabel(\"x\")\n",
    "plt.ylabel(\"y\")\n",
    "plt.title(\"y = 4x + 3\")\n"
   ]
  },
  {
   "cell_type": "markdown",
   "metadata": {},
   "source": [
    "Functions of this form have a defined domain and a defined range, most or all of the time. For the uninitiated, the domain is the range of inputs (range of \"x\") that are permitted for a given function. The range is the range of the outputs (range of \"y\") for that function. For instance, for the function above the domain is $x \\in (-\\infty:\\infty)$ and the range is $y \\in (-\\infty:\\infty)$."
   ]
  },
  {
   "cell_type": "markdown",
   "metadata": {},
   "source": [
    "So far, so good. Random variables are weird in this sense. They are essentially functions. But they do not deal with inputs and outputs in the sense that they are defined above. Random variables are functions over sets. Here, we use the mathematical notion of sets, i.e. a collection of things. For instance, I have a bag (set B) filled with multi-colored balls:\n",
    "$$B = \\{red, white, blue, green\\}$$"
   ]
  },
  {
   "cell_type": "markdown",
   "metadata": {},
   "source": [
    ">A random variable maps every element in a set / a sample space to a real number."
   ]
  },
  {
   "cell_type": "markdown",
   "metadata": {},
   "source": [
    "That's it. A random variable is simply a function that maps every element in a set ($\\mathbb{S}$) to a real number ($\\mathbb{R}$). This gives us a lot of leeway to play with these variables."
   ]
  },
  {
   "cell_type": "markdown",
   "metadata": {},
   "source": [
    "$$X: \\mathbb{S} \\rightarrow \\mathbb{R}$$"
   ]
  },
  {
   "cell_type": "markdown",
   "metadata": {},
   "source": [
    "### A gentle introductory example:"
   ]
  },
  {
   "cell_type": "markdown",
   "metadata": {},
   "source": [
    "Say we win 1$ everytime we land heads after a coin-flip.  Then we would define our random variable $X$ as:\n",
    "$\\begin{equation}\n",
    "  X =\n",
    "  \\begin{cases}\n",
    "    1 & \\text{when heads} \\\\\n",
    "    0 & \\text{when tails}\n",
    "  \\end{cases}\n",
    "\\end{equation}$"
   ]
  },
  {
   "cell_type": "markdown",
   "metadata": {},
   "source": [
    "Note that the domain of our random variable is the sample space, $\\{H, T\\}$ and the range is $\\{0, 1\\}$."
   ]
  },
  {
   "cell_type": "markdown",
   "metadata": {},
   "source": [
    "Our random variable $X$ can either be heads or it could be tails. Perhaps it could be heads with a 60% of the time. Maybe we change the coin and now it's heads only 30% of the time. Both of these cases can be represented with the random variable above, as long as we win $1 everytime we land heads. This example should give you an inkling that random variables are inherently linked to probabilities."
   ]
  },
  {
   "cell_type": "markdown",
   "metadata": {},
   "source": [
    "### Why only on sets?"
   ]
  },
  {
   "cell_type": "markdown",
   "metadata": {},
   "source": [
    "Let's say we had to define a random variable on $y = 4x + 3$. Recall that a random variable is a function that maps every element in a set to a real number. However, there is nothing random about the linear equation. A linear equation is deterministic relation between $y$ and $x$. Hence, we see why random variables are used to model outcomes that are based on chance / outcomes that are probabilistic. We cannot predict the value of a random variable with certainty."
   ]
  },
  {
   "cell_type": "markdown",
   "metadata": {},
   "source": [
    "> Random variables model probabilistic outcomes."
   ]
  },
  {
   "cell_type": "markdown",
   "metadata": {},
   "source": [
    "According to a useful definition by none other than our old friend Wikipedia, random variables map a sample space $\\{H, T\\}$ to a measurable space $\\{1, 0\\}$."
   ]
  },
  {
   "cell_type": "markdown",
   "metadata": {},
   "source": [
    "Another useful interpretation, credits to Khan Academy, to distinguish between typical functions and random variables is that, we can essentially assign a value to the input in a typical function such as $y=4x+3$. I can assign values to $x$ willy-nilly. However, I can't assign values to a random variable, since it depends on chance."
   ]
  },
  {
   "cell_type": "markdown",
   "metadata": {},
   "source": [
    "### A few more introductory examples :"
   ]
  },
  {
   "cell_type": "markdown",
   "metadata": {},
   "source": [
    "Why play with one coin that can win us a dollar if we land heads, when we can play with two coins and make 5$ if we get two heads.\n",
    "$\\begin{equation}\n",
    "  X =\n",
    "  \\begin{cases}\n",
    "    5 & \\text{when heads, heads} \\\\\n",
    "    0 & \\text{when heads, tails} \\\\\n",
    "    0 & \\text{when tails, heads} \\\\\n",
    "    -2 & \\text{when tails, tails}\n",
    "  \\end{cases}\n",
    "\\end{equation}$"
   ]
  },
  {
   "cell_type": "markdown",
   "metadata": {},
   "source": [
    "Instead of arbitrarily assigning values, often times random variables are defined based on a count. Here's one defined by the count of tails:\n",
    "$\\begin{equation}\n",
    "  X =\n",
    "  \\begin{cases}\n",
    "    0 & \\text{when heads, heads} \\\\\n",
    "    1 & \\text{when heads, tails} \\\\\n",
    "    1 & \\text{when tails, heads} \\\\\n",
    "    2 & \\text{when tails, tails}\n",
    "  \\end{cases}\n",
    "\\end{equation}$"
   ]
  },
  {
   "cell_type": "markdown",
   "metadata": {},
   "source": [
    "### Something missing?"
   ]
  },
  {
   "cell_type": "markdown",
   "metadata": {},
   "source": [
    "So far we've explored what happens when we get a certain outcome. But clearly we're missing something critical. If I had to guess whether to bet on two coins landing as two heads, what would we ask? What would we check? We'd probably check if we had a fair coin or we'd ask for the probability of a coin landing heads."
   ]
  },
  {
   "cell_type": "markdown",
   "metadata": {},
   "source": [
    "Really, a random variable is incomplete without its probabilities being defined. How do we define these probabilities? Glad you asked. That really comes down to the type of the random variable in question. There are only 2 types that we need to be concerned about, discrete and continuous."
   ]
  },
  {
   "cell_type": "markdown",
   "metadata": {},
   "source": [
    "<sub><sup>There's also a mixed type but we are going to conveniently ignore it. If you're dealing with mixed types maybe this post might be too basic for you :smile:</sup></sub>"
   ]
  },
  {
   "cell_type": "markdown",
   "metadata": {},
   "source": [
    "### Discrete Random Variables (drv):"
   ]
  },
  {
   "cell_type": "markdown",
   "metadata": {},
   "source": [
    "Usually, drvs tend to the counting kind of random variables. How many horror movies did people watch on Netflix on Friday the 13th? How many energy drinks did a grocery store sell on Friday night? (Yes, I wrote this on a random Friday morning)"
   ]
  },
  {
   "cell_type": "markdown",
   "metadata": {},
   "source": [
    "Why are the variables above random variables and not normal function type of variables? It would be nice to have a function to define these sorts of relations. You can even try to collect data and fit a rough function to it over time. But this function will only be based on past data. Whereas a random variable in case will truly capture the essence of the data. Maybe I sell $1 / 2 / \\ldots N$ energy drinks on a Friday night. I can then assign a chance to each of these numbers to make an informed decision. We can even plot the distribution of these numbers and probabilities."
   ]
  },
  {
   "cell_type": "markdown",
   "metadata": {},
   "source": [
    ">drvs take on countable values such as $0, 1, 2, 3, \\ldots$. The number of countable values that the drv takes is finite."
   ]
  },
  {
   "cell_type": "markdown",
   "metadata": {},
   "source": [
    "If we assign a probability to each outcome that a drv can take, then we have a \"probability mass function\". You can simply think of it as a probability function."
   ]
  },
  {
   "cell_type": "markdown",
   "metadata": {},
   "source": [
    "### Continuous Random Variables (crv):"
   ]
  },
  {
   "cell_type": "markdown",
   "metadata": {},
   "source": [
    "Usually, crvs tend to be the measurement kind of random variables. The weight of a person can vary from day to day or even within a day based on what they eat, how much water they drink, if they are taking any medication etc. Moreover, weight is not nice natural number usually, I cannot count weight, though I can measure it. Since we are not dealing with counts anymore and we know that there are infinite numbers between say 10 and 11, there are infinite possible values that a crv could take."
   ]
  },
  {
   "cell_type": "markdown",
   "metadata": {},
   "source": [
    "It'll be hard to assign a probability to these infinite points in a crv, so probabilities for a crv are usually defined over a range. The probability function is now called a \"probability density function\"."
   ]
  },
  {
   "cell_type": "markdown",
   "metadata": {},
   "source": [
    "### Unavoidable but very simple math:"
   ]
  },
  {
   "cell_type": "markdown",
   "metadata": {},
   "source": [
    "Inevitably, when probabilities are involved they MUST sum up to one over the entire sample space. And oh yea, they can't be negative. So we have property expressed in discrete and continuous flavors.\n",
    "For the newbies, the confused A, i.e. $\\forall$ is stands for: \"for all\". So $\\forall x$ would read \"for all x\".\n",
    "- Discrete, given that we have n events in our sample space:\n",
    "  $\\begin{equation}\n",
    "  \\sum_{i=1}^n p_i = 1\n",
    "  \\end{equation}$\n",
    "  $\\begin{equation}\n",
    "  0 <= p_i <= 1, \\forall i\n",
    "  \\end{equation}$\n",
    "- Continuous, given that our sample space events are called $x$:\n",
    "  $\\begin{equation}\n",
    "  \\int_{-\\infty}^{\\infty} p(x) dx = 1\n",
    "  \\end{equation}$\n",
    "  $\\begin{equation}\n",
    "  p(x) >= 0, \\forall x\n",
    "  \\end{equation}$"
   ]
  },
  {
   "cell_type": "markdown",
   "metadata": {},
   "source": [
    "### Random variables (rv) for fun and profit in Python:"
   ]
  },
  {
   "cell_type": "markdown",
   "metadata": {},
   "source": [
    "To make big bucks and join a big name ML firm and to bet better at coin games, let's play with random variables in Python. Let's model our the rv who was courageous enough to approach an unknown human being like us for the first time:\n",
    "$\\begin{equation}\n",
    "  X =\n",
    "  \\begin{cases}\n",
    "    1 & \\text{when heads} \\\\\n",
    "    0 & \\text{when tails}\n",
    "  \\end{cases}\n",
    "\\end{equation}$"
   ]
  },
  {
   "cell_type": "markdown",
   "metadata": {},
   "source": [
    "##### Alternative 1:"
   ]
  },
  {
   "cell_type": "code",
   "execution_count": 24,
   "metadata": {},
   "outputs": [],
   "source": [
    "xk = np.arange(2)\n",
    "pk = (0.5, 0.5)\n",
    "fair_coin = rv_discrete(values=(xk, pk), name=\"fair_coin\")"
   ]
  },
  {
   "cell_type": "code",
   "execution_count": 25,
   "metadata": {},
   "outputs": [
    {
     "data": {
      "image/png": "[encoded data removed]",
      "text/plain": [
       "<Figure size 640x480 with 1 Axes>"
      ]
     },
     "metadata": {},
     "output_type": "display_data"
    }
   ],
   "source": [
    "fig, ax = plt.subplots(1, 1)\n",
    "ax.plot(xk, fair_coin.pmf(xk), 'ro', ms=12, mec='r')\n",
    "ax.vlines(xk, 0, fair_coin.pmf(xk), colors='r', lw=4)\n",
    "plt.show()"
   ]
  },
  {
   "cell_type": "code",
   "execution_count": 35,
   "metadata": {},
   "outputs": [
    {
     "data": {
      "text/plain": [
       "11"
      ]
     },
     "execution_count": 35,
     "metadata": {},
     "output_type": "execute_result"
    }
   ],
   "source": [
    "fair_coin.rvs(10)"
   ]
  },
  {
   "cell_type": "markdown",
   "metadata": {},
   "source": [
    "##### Alternative 2:"
   ]
  },
  {
   "cell_type": "code",
   "execution_count": 45,
   "metadata": {},
   "outputs": [
    {
     "data": {
      "text/plain": [
       "array([0, 1, 1, 1, 0, 1, 0, 0, 1, 0])"
      ]
     },
     "execution_count": 45,
     "metadata": {},
     "output_type": "execute_result"
    }
   ],
   "source": [
    "coin_values = [0, 1]\n",
    "probabilities = [0.5, 0.5]\n",
    "np.random.choice(coin_values,p=probabilities, size=10)"
   ]
  },
  {
   "cell_type": "markdown",
   "metadata": {},
   "source": [
    "### To sum up:"
   ]
  },
  {
   "cell_type": "markdown",
   "metadata": {},
   "source": [
    "A random variable maps a sample space to a measureable space.  \n",
    "A random variable maps every element in a set to a real number."
   ]
  },
  {
   "cell_type": "markdown",
   "metadata": {},
   "source": [
    "The \"randomness\" of a random variable refers to probabilistic nature of the events that it is modelling."
   ]
  },
  {
   "cell_type": "markdown",
   "metadata": {},
   "source": [
    "References:  \n",
    " - [Princeton Stats Guide](https://www.cs.princeton.edu/courses/archive/fall02/cs341/lec22.pdf)\n",
    " - [Khan Academy - Random Variable](https://www.cs.princeton.edu/courses/archive/fall02/cs341/lec22.pdf)\n",
    " - [Wikipedia - Random Variables](https://en.wikipedia.org/wiki/Random_variable#:~:text=function%20given%20by%3A-,Dice%20roll,height%20of%20picture%20columns%20here.)"
   ]
  }
 ],
 "metadata": {
  "kernelspec": {
   "display_name": "stats",
   "language": "python",
   "name": "python3"
  },
  "language_info": {
   "codemirror_mode": {
    "name": "ipython",
    "version": 3
   },
   "file_extension": ".py",
   "mimetype": "text/x-python",
   "name": "python",
   "nbconvert_exporter": "python",
   "pygments_lexer": "ipython3",
   "version": "3.11.5"
  },
  "orig_nbformat": 4
 },
 "nbformat": 4,
 "nbformat_minor": 2
}
